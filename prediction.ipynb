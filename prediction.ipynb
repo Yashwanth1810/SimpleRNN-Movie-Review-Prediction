{
 "cells": [
  {
   "cell_type": "code",
   "execution_count": 1,
   "id": "3bc36cc5",
   "metadata": {},
   "outputs": [],
   "source": [
    "# step1: Import libraries and load the model\n",
    "import numpy as np\n",
    "import tensorflow as tf\n",
    "from tensorflow.keras.preprocessing import sequence\n",
    "from tensorflow.keras.models import load_model\n",
    "from tensorflow.keras.datasets import imdb\n"
   ]
  },
  {
   "cell_type": "code",
   "execution_count": 2,
   "id": "1a54796c",
   "metadata": {},
   "outputs": [],
   "source": [
    "# Load the IMDB dataset word index\n",
    "word_index = imdb.get_word_index()\n",
    "reverse_word_index = {value: key for key, value in word_index.items()}"
   ]
  },
  {
   "cell_type": "code",
   "execution_count": 3,
   "id": "174a28a9",
   "metadata": {},
   "outputs": [
    {
     "name": "stderr",
     "output_type": "stream",
     "text": [
      "WARNING:absl:Compiled the loaded model, but the compiled metrics have yet to be built. `model.compile_metrics` will be empty until you train or evaluate the model.\n"
     ]
    },
    {
     "data": {
      "text/html": [
       "<pre style=\"white-space:pre;overflow-x:auto;line-height:normal;font-family:Menlo,'DejaVu Sans Mono',consolas,'Courier New',monospace\"><span style=\"font-weight: bold\">Model: \"sequential_1\"</span>\n",
       "</pre>\n"
      ],
      "text/plain": [
       "\u001b[1mModel: \"sequential_1\"\u001b[0m\n"
      ]
     },
     "metadata": {},
     "output_type": "display_data"
    },
    {
     "data": {
      "text/html": [
       "<pre style=\"white-space:pre;overflow-x:auto;line-height:normal;font-family:Menlo,'DejaVu Sans Mono',consolas,'Courier New',monospace\">┏━━━━━━━━━━━━━━━━━━━━━━━━━━━━━━━━━┳━━━━━━━━━━━━━━━━━━━━━━━━┳━━━━━━━━━━━━━━━┓\n",
       "┃<span style=\"font-weight: bold\"> Layer (type)                    </span>┃<span style=\"font-weight: bold\"> Output Shape           </span>┃<span style=\"font-weight: bold\">       Param # </span>┃\n",
       "┡━━━━━━━━━━━━━━━━━━━━━━━━━━━━━━━━━╇━━━━━━━━━━━━━━━━━━━━━━━━╇━━━━━━━━━━━━━━━┩\n",
       "│ embedding_1 (<span style=\"color: #0087ff; text-decoration-color: #0087ff\">Embedding</span>)         │ (<span style=\"color: #00d7ff; text-decoration-color: #00d7ff\">None</span>, <span style=\"color: #00af00; text-decoration-color: #00af00\">500</span>, <span style=\"color: #00af00; text-decoration-color: #00af00\">128</span>)       │     <span style=\"color: #00af00; text-decoration-color: #00af00\">1,280,000</span> │\n",
       "├─────────────────────────────────┼────────────────────────┼───────────────┤\n",
       "│ simple_rnn (<span style=\"color: #0087ff; text-decoration-color: #0087ff\">SimpleRNN</span>)          │ (<span style=\"color: #00d7ff; text-decoration-color: #00d7ff\">None</span>, <span style=\"color: #00af00; text-decoration-color: #00af00\">128</span>)            │        <span style=\"color: #00af00; text-decoration-color: #00af00\">32,896</span> │\n",
       "├─────────────────────────────────┼────────────────────────┼───────────────┤\n",
       "│ dense (<span style=\"color: #0087ff; text-decoration-color: #0087ff\">Dense</span>)                   │ (<span style=\"color: #00d7ff; text-decoration-color: #00d7ff\">None</span>, <span style=\"color: #00af00; text-decoration-color: #00af00\">1</span>)              │           <span style=\"color: #00af00; text-decoration-color: #00af00\">129</span> │\n",
       "└─────────────────────────────────┴────────────────────────┴───────────────┘\n",
       "</pre>\n"
      ],
      "text/plain": [
       "┏━━━━━━━━━━━━━━━━━━━━━━━━━━━━━━━━━┳━━━━━━━━━━━━━━━━━━━━━━━━┳━━━━━━━━━━━━━━━┓\n",
       "┃\u001b[1m \u001b[0m\u001b[1mLayer (type)                   \u001b[0m\u001b[1m \u001b[0m┃\u001b[1m \u001b[0m\u001b[1mOutput Shape          \u001b[0m\u001b[1m \u001b[0m┃\u001b[1m \u001b[0m\u001b[1m      Param #\u001b[0m\u001b[1m \u001b[0m┃\n",
       "┡━━━━━━━━━━━━━━━━━━━━━━━━━━━━━━━━━╇━━━━━━━━━━━━━━━━━━━━━━━━╇━━━━━━━━━━━━━━━┩\n",
       "│ embedding_1 (\u001b[38;5;33mEmbedding\u001b[0m)         │ (\u001b[38;5;45mNone\u001b[0m, \u001b[38;5;34m500\u001b[0m, \u001b[38;5;34m128\u001b[0m)       │     \u001b[38;5;34m1,280,000\u001b[0m │\n",
       "├─────────────────────────────────┼────────────────────────┼───────────────┤\n",
       "│ simple_rnn (\u001b[38;5;33mSimpleRNN\u001b[0m)          │ (\u001b[38;5;45mNone\u001b[0m, \u001b[38;5;34m128\u001b[0m)            │        \u001b[38;5;34m32,896\u001b[0m │\n",
       "├─────────────────────────────────┼────────────────────────┼───────────────┤\n",
       "│ dense (\u001b[38;5;33mDense\u001b[0m)                   │ (\u001b[38;5;45mNone\u001b[0m, \u001b[38;5;34m1\u001b[0m)              │           \u001b[38;5;34m129\u001b[0m │\n",
       "└─────────────────────────────────┴────────────────────────┴───────────────┘\n"
      ]
     },
     "metadata": {},
     "output_type": "display_data"
    },
    {
     "data": {
      "text/html": [
       "<pre style=\"white-space:pre;overflow-x:auto;line-height:normal;font-family:Menlo,'DejaVu Sans Mono',consolas,'Courier New',monospace\"><span style=\"font-weight: bold\"> Total params: </span><span style=\"color: #00af00; text-decoration-color: #00af00\">1,313,027</span> (5.01 MB)\n",
       "</pre>\n"
      ],
      "text/plain": [
       "\u001b[1m Total params: \u001b[0m\u001b[38;5;34m1,313,027\u001b[0m (5.01 MB)\n"
      ]
     },
     "metadata": {},
     "output_type": "display_data"
    },
    {
     "data": {
      "text/html": [
       "<pre style=\"white-space:pre;overflow-x:auto;line-height:normal;font-family:Menlo,'DejaVu Sans Mono',consolas,'Courier New',monospace\"><span style=\"font-weight: bold\"> Trainable params: </span><span style=\"color: #00af00; text-decoration-color: #00af00\">1,313,025</span> (5.01 MB)\n",
       "</pre>\n"
      ],
      "text/plain": [
       "\u001b[1m Trainable params: \u001b[0m\u001b[38;5;34m1,313,025\u001b[0m (5.01 MB)\n"
      ]
     },
     "metadata": {},
     "output_type": "display_data"
    },
    {
     "data": {
      "text/html": [
       "<pre style=\"white-space:pre;overflow-x:auto;line-height:normal;font-family:Menlo,'DejaVu Sans Mono',consolas,'Courier New',monospace\"><span style=\"font-weight: bold\"> Non-trainable params: </span><span style=\"color: #00af00; text-decoration-color: #00af00\">0</span> (0.00 B)\n",
       "</pre>\n"
      ],
      "text/plain": [
       "\u001b[1m Non-trainable params: \u001b[0m\u001b[38;5;34m0\u001b[0m (0.00 B)\n"
      ]
     },
     "metadata": {},
     "output_type": "display_data"
    },
    {
     "data": {
      "text/html": [
       "<pre style=\"white-space:pre;overflow-x:auto;line-height:normal;font-family:Menlo,'DejaVu Sans Mono',consolas,'Courier New',monospace\"><span style=\"font-weight: bold\"> Optimizer params: </span><span style=\"color: #00af00; text-decoration-color: #00af00\">2</span> (12.00 B)\n",
       "</pre>\n"
      ],
      "text/plain": [
       "\u001b[1m Optimizer params: \u001b[0m\u001b[38;5;34m2\u001b[0m (12.00 B)\n"
      ]
     },
     "metadata": {},
     "output_type": "display_data"
    }
   ],
   "source": [
    "# Load the pretrained model with ReLU activation\n",
    "model=load_model('simple_rnn_imdb.h5')\n",
    "model.summary()"
   ]
  },
  {
   "cell_type": "code",
   "execution_count": 4,
   "id": "50ed2329",
   "metadata": {},
   "outputs": [
    {
     "data": {
      "text/plain": [
       "[array([[ 0.08088426,  0.04111617, -0.04805658, ...,  0.01842667,\n",
       "          0.04805855,  0.04528707],\n",
       "        [-0.00229789,  0.01007223,  0.0004769 , ...,  0.00018559,\n",
       "          0.05710289, -0.04440131],\n",
       "        [-0.00796894,  0.10495371,  0.02403878, ..., -0.08348154,\n",
       "          0.04504436,  0.01389682],\n",
       "        ...,\n",
       "        [ 0.05194234,  0.04663072,  0.03255469, ..., -0.00821898,\n",
       "         -0.00874741,  0.05242841],\n",
       "        [ 0.05542051,  0.01968403, -0.01087618, ..., -0.06817888,\n",
       "         -0.03309704, -0.07378998],\n",
       "        [ 0.04233044,  0.02709729, -0.04597982, ..., -0.04633087,\n",
       "         -0.0596978 ,  0.0955947 ]], dtype=float32),\n",
       " array([[ 0.02583701, -0.10356303, -0.06450699, ...,  0.04246838,\n",
       "         -0.00299998,  0.00656113],\n",
       "        [-0.11846705,  0.08432527,  0.12018947, ...,  0.03874733,\n",
       "         -0.01208998,  0.1123006 ],\n",
       "        [ 0.04560689,  0.11003865,  0.12064524, ...,  0.00253459,\n",
       "         -0.03814541,  0.00130338],\n",
       "        ...,\n",
       "        [ 0.04955907,  0.11333367, -0.00254968, ...,  0.03718209,\n",
       "          0.02054967, -0.09683002],\n",
       "        [-0.1111638 , -0.04550803, -0.09732122, ..., -0.1573764 ,\n",
       "         -0.04243653,  0.07677335],\n",
       "        [-0.02759261,  0.05529977, -0.0271141 , ...,  0.03060481,\n",
       "          0.11475092,  0.04142987]], dtype=float32),\n",
       " array([[ 0.02032815, -0.08001739, -0.12343347, ..., -0.03166153,\n",
       "         -0.05639289, -0.02643425],\n",
       "        [-0.01059802,  0.05947566, -0.00582105, ...,  0.09710509,\n",
       "         -0.04800104, -0.01615357],\n",
       "        [ 0.18373288,  0.17370623,  0.03672624, ..., -0.04226911,\n",
       "         -0.14281064,  0.10950097],\n",
       "        ...,\n",
       "        [-0.04047088, -0.08247455, -0.03227594, ..., -0.11877397,\n",
       "          0.14963774, -0.09467546],\n",
       "        [ 0.02850423, -0.09138764, -0.0402972 , ...,  0.11963793,\n",
       "          0.03327268,  0.05309997],\n",
       "        [ 0.07701683, -0.08481661,  0.03260564, ..., -0.06705409,\n",
       "         -0.14914653,  0.11661816]], dtype=float32),\n",
       " array([ 0.01380416, -0.01415641, -0.00991385, -0.01416929,  0.0039368 ,\n",
       "        -0.01812489, -0.00032711,  0.01273198,  0.01829062, -0.01273908,\n",
       "        -0.02366628, -0.01619807,  0.0155683 , -0.00089166, -0.0151042 ,\n",
       "        -0.00257006, -0.04023509, -0.01522546,  0.0215209 ,  0.01977045,\n",
       "        -0.01790054, -0.00072422, -0.02356252, -0.01313049,  0.01588067,\n",
       "        -0.02308721,  0.01105791,  0.00386483, -0.00269491, -0.02116711,\n",
       "         0.00186907, -0.02592225, -0.0193268 , -0.0062384 , -0.00840336,\n",
       "        -0.00116268, -0.04131122,  0.00865307, -0.0028652 , -0.00534058,\n",
       "        -0.00605034, -0.02293347, -0.00793373, -0.00536072, -0.00404095,\n",
       "        -0.00771668,  0.01589485, -0.01614462, -0.01926284, -0.02537748,\n",
       "         0.00785187,  0.00071671, -0.01411898,  0.00591659, -0.00335646,\n",
       "        -0.0082406 , -0.00321446, -0.00014479,  0.02057631,  0.00329465,\n",
       "         0.00578117, -0.012765  , -0.00434539,  0.01490511, -0.02708588,\n",
       "        -0.01033629,  0.01907679, -0.0248141 , -0.02017807, -0.00695448,\n",
       "         0.01643307, -0.02083139,  0.01748329,  0.01344105, -0.01374003,\n",
       "         0.00522102, -0.02135732,  0.00973129, -0.00565324,  0.01331858,\n",
       "        -0.01570556, -0.01517197,  0.00981628, -0.02951306,  0.01351317,\n",
       "        -0.01305219, -0.00707957, -0.0035229 , -0.01883426, -0.01800929,\n",
       "        -0.00641239, -0.0184865 ,  0.01163781,  0.01288542, -0.02208251,\n",
       "        -0.02598952,  0.02770432,  0.00662956, -0.02705253, -0.0215709 ,\n",
       "        -0.01911435, -0.00549967, -0.00767939, -0.01450966,  0.01962007,\n",
       "         0.00450291,  0.0275826 ,  0.0009399 , -0.00134574, -0.01096974,\n",
       "        -0.00140361,  0.00145885, -0.0209757 , -0.04034745, -0.00498445,\n",
       "        -0.00533638, -0.01212493,  0.00460019,  0.01489835, -0.01175354,\n",
       "         0.01201626,  0.00545764,  0.00805211, -0.02250492,  0.00762304,\n",
       "        -0.02197925, -0.01281229,  0.02197885], dtype=float32),\n",
       " array([[ 0.10753074],\n",
       "        [ 0.01268557],\n",
       "        [-0.03073844],\n",
       "        [ 0.12396936],\n",
       "        [ 0.32025838],\n",
       "        [-0.14316674],\n",
       "        [ 0.02075022],\n",
       "        [-0.32141265],\n",
       "        [ 0.21734513],\n",
       "        [ 0.39764673],\n",
       "        [ 0.06999019],\n",
       "        [-0.19623367],\n",
       "        [-0.10848084],\n",
       "        [ 0.05759954],\n",
       "        [-0.12320155],\n",
       "        [-0.13669905],\n",
       "        [-0.23233412],\n",
       "        [-0.17560603],\n",
       "        [ 0.2376264 ],\n",
       "        [ 0.24602443],\n",
       "        [-0.11519974],\n",
       "        [ 0.24219944],\n",
       "        [ 0.18245153],\n",
       "        [-0.19705759],\n",
       "        [-0.04358723],\n",
       "        [-0.16728431],\n",
       "        [-0.22551021],\n",
       "        [-0.05108802],\n",
       "        [ 0.3411126 ],\n",
       "        [ 0.02431355],\n",
       "        [-0.1728592 ],\n",
       "        [-0.00676671],\n",
       "        [-0.19539894],\n",
       "        [-0.00932837],\n",
       "        [-0.10456799],\n",
       "        [ 0.1408411 ],\n",
       "        [-0.0342752 ],\n",
       "        [-0.12101024],\n",
       "        [ 0.03361646],\n",
       "        [-0.15734613],\n",
       "        [-0.06386135],\n",
       "        [-0.30542228],\n",
       "        [-0.38552648],\n",
       "        [-0.05500039],\n",
       "        [ 0.04817769],\n",
       "        [-0.00272817],\n",
       "        [ 0.18603529],\n",
       "        [-0.03919278],\n",
       "        [-0.05794158],\n",
       "        [ 0.05681688],\n",
       "        [-0.03681508],\n",
       "        [-0.32370457],\n",
       "        [-0.77121484],\n",
       "        [-0.02556857],\n",
       "        [ 0.18696532],\n",
       "        [ 0.04007492],\n",
       "        [-0.17765777],\n",
       "        [ 0.07252553],\n",
       "        [-0.12279011],\n",
       "        [ 0.35863334],\n",
       "        [-0.10509934],\n",
       "        [-0.2946284 ],\n",
       "        [-0.14311531],\n",
       "        [-0.1773421 ],\n",
       "        [ 0.20154414],\n",
       "        [-0.07203249],\n",
       "        [-0.12239438],\n",
       "        [-0.11373534],\n",
       "        [-0.11607232],\n",
       "        [-0.3348729 ],\n",
       "        [ 0.21009564],\n",
       "        [-0.04984235],\n",
       "        [-0.00232356],\n",
       "        [-0.556999  ],\n",
       "        [-0.21185066],\n",
       "        [ 0.05628475],\n",
       "        [-0.1520951 ],\n",
       "        [-0.08303825],\n",
       "        [-0.05628618],\n",
       "        [-0.02718295],\n",
       "        [ 0.17890055],\n",
       "        [-0.29685423],\n",
       "        [-0.20366499],\n",
       "        [-0.11354174],\n",
       "        [-0.04236663],\n",
       "        [-0.3373434 ],\n",
       "        [-0.13735932],\n",
       "        [ 0.10346942],\n",
       "        [-0.20753464],\n",
       "        [-0.04825772],\n",
       "        [ 0.05327779],\n",
       "        [-0.1236173 ],\n",
       "        [-0.38905525],\n",
       "        [ 0.05633125],\n",
       "        [-0.41112342],\n",
       "        [ 0.0687944 ],\n",
       "        [ 0.12635763],\n",
       "        [ 0.21580212],\n",
       "        [-0.40228873],\n",
       "        [-0.12034238],\n",
       "        [-0.1422289 ],\n",
       "        [ 0.06350996],\n",
       "        [-0.3022086 ],\n",
       "        [-0.11961805],\n",
       "        [ 0.21367127],\n",
       "        [-0.47859144],\n",
       "        [-0.10324678],\n",
       "        [-0.16268304],\n",
       "        [ 0.01825622],\n",
       "        [-0.1963223 ],\n",
       "        [-0.23216577],\n",
       "        [ 0.29045802],\n",
       "        [ 0.02963676],\n",
       "        [-0.01727933],\n",
       "        [-0.17494628],\n",
       "        [ 0.0783852 ],\n",
       "        [-0.22830221],\n",
       "        [-0.09486142],\n",
       "        [-0.04579891],\n",
       "        [ 0.03260778],\n",
       "        [ 0.0917811 ],\n",
       "        [-0.12131257],\n",
       "        [ 0.04092796],\n",
       "        [ 0.01594214],\n",
       "        [ 0.21396948],\n",
       "        [ 0.11523382],\n",
       "        [ 0.08443485],\n",
       "        [-0.67324907]], dtype=float32),\n",
       " array([-0.53970414], dtype=float32)]"
      ]
     },
     "execution_count": 4,
     "metadata": {},
     "output_type": "execute_result"
    }
   ],
   "source": [
    "# Getting the model weights\n",
    "model.get_weights()"
   ]
  },
  {
   "cell_type": "code",
   "execution_count": 5,
   "id": "40b0b3b1",
   "metadata": {},
   "outputs": [],
   "source": [
    "# Step 2: Helper Functions\n",
    "# Function to decode reviews\n",
    "def decode_review(encoded_review):\n",
    "  return ''.join([reverse_word_index.get(i-3, '?') for i in encoded_review])\n",
    "\n",
    "# Function to preprocess user input\n",
    "def preprocess_text(text):\n",
    "  words = text.lower().split()\n",
    "  encoded_review = [word_index.get(word, 2) + 3 for word in words]\n",
    "  padded_review = sequence.pad_sequences([encoded_review], maxlen=500)\n",
    "  return padded_review"
   ]
  },
  {
   "cell_type": "code",
   "execution_count": 6,
   "id": "2bbc6e69",
   "metadata": {},
   "outputs": [],
   "source": [
    "# Prediction Function\n",
    "def predict_sentiment(review):\n",
    "  preprocessed_input=preprocess_text(review)\n",
    "\n",
    "  prediction=model.predict(preprocessed_input)\n",
    "\n",
    "  sentiment = 'Positive' if prediction[0][0] > 0.5 else 'Negative'\n",
    "\n",
    "  return sentiment, prediction[0][0]"
   ]
  },
  {
   "cell_type": "code",
   "execution_count": 7,
   "id": "98c5e3ac",
   "metadata": {},
   "outputs": [
    {
     "name": "stdout",
     "output_type": "stream",
     "text": [
      "\u001b[1m1/1\u001b[0m \u001b[32m━━━━━━━━━━━━━━━━━━━━\u001b[0m\u001b[37m\u001b[0m \u001b[1m0s\u001b[0m 327ms/step\n",
      "Review: Negative worst movie and very bad no proper actions and acting was there, disaster, utter flop\n",
      "Sentiment: Negative\n",
      "Prediction Score: 0.18841193616390228\n"
     ]
    }
   ],
   "source": [
    "# Step 4: user input and prediction\n",
    "# Example review for prediction\n",
    "example_review = \"Negative worst movie and very bad no proper actions and acting was there, disaster, utter flop\"\n",
    "\n",
    "sentiment,score=predict_sentiment(example_review)\n",
    "\n",
    "print(f'Review: {example_review}')\n",
    "print(f'Sentiment: {sentiment}')\n",
    "print(f'Prediction Score: {score}')"
   ]
  },
  {
   "cell_type": "code",
   "execution_count": null,
   "id": "a1ed86c6",
   "metadata": {},
   "outputs": [],
   "source": []
  }
 ],
 "metadata": {
  "kernelspec": {
   "display_name": "base",
   "language": "python",
   "name": "python3"
  },
  "language_info": {
   "codemirror_mode": {
    "name": "ipython",
    "version": 3
   },
   "file_extension": ".py",
   "mimetype": "text/x-python",
   "name": "python",
   "nbconvert_exporter": "python",
   "pygments_lexer": "ipython3",
   "version": "3.11.7"
  }
 },
 "nbformat": 4,
 "nbformat_minor": 5
}
